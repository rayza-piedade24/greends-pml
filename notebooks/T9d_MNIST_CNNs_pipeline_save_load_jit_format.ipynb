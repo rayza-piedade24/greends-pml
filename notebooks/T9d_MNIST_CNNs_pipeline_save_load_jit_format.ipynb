{
  "nbformat": 4,
  "nbformat_minor": 0,
  "metadata": {
    "colab": {
      "provenance": [],
      "machine_shape": "hm",
      "gpuType": "A100",
      "authorship_tag": "ABX9TyN8tHBgp2aJRvp1Aler+Ab2",
      "include_colab_link": true
    },
    "kernelspec": {
      "name": "python3",
      "display_name": "Python 3"
    },
    "language_info": {
      "name": "python"
    },
    "accelerator": "GPU"
  },
  "cells": [
    {
      "cell_type": "markdown",
      "metadata": {
        "id": "view-in-github",
        "colab_type": "text"
      },
      "source": [
        "<a href=\"https://colab.research.google.com/github/isa-ulisboa/greends-pml/blob/main/notebooks/T9d_MNIST_CNNs_pipeline_save_load_jit_format.ipynb\" target=\"_parent\"><img src=\"https://colab.research.google.com/assets/colab-badge.svg\" alt=\"Open In Colab\"/></a>"
      ]
    },
    {
      "cell_type": "markdown",
      "source": [
        "In this notebook, we present a total pipeline for the MNIST data set, using a custom convolutional neural network `simple_cnn`.\n",
        "\n",
        "We discuss how to save and load the trained model."
      ],
      "metadata": {
        "id": "xx-VaUqLPA2v"
      }
    },
    {
      "cell_type": "code",
      "source": [
        "!pip install torchvision\n",
        "\n",
        "import torch\n",
        "import torch.nn as nn\n",
        "import torch.optim as optim\n",
        "from torchvision import datasets, transforms\n",
        "from torch.utils.data import DataLoader\n",
        "import matplotlib.pyplot as plt\n",
        "import time"
      ],
      "metadata": {
        "collapsed": true,
        "id": "i3Hwef1Jzdi7",
        "colab": {
          "base_uri": "https://localhost:8080/"
        },
        "outputId": "d4731ced-42c5-49f2-d8f1-5a99038c1780"
      },
      "execution_count": 22,
      "outputs": [
        {
          "output_type": "stream",
          "name": "stdout",
          "text": [
            "Requirement already satisfied: torchvision in /usr/local/lib/python3.11/dist-packages (0.21.0+cu124)\n",
            "Requirement already satisfied: numpy in /usr/local/lib/python3.11/dist-packages (from torchvision) (2.0.2)\n",
            "Requirement already satisfied: torch==2.6.0 in /usr/local/lib/python3.11/dist-packages (from torchvision) (2.6.0+cu124)\n",
            "Requirement already satisfied: pillow!=8.3.*,>=5.3.0 in /usr/local/lib/python3.11/dist-packages (from torchvision) (11.2.1)\n",
            "Requirement already satisfied: filelock in /usr/local/lib/python3.11/dist-packages (from torch==2.6.0->torchvision) (3.18.0)\n",
            "Requirement already satisfied: typing-extensions>=4.10.0 in /usr/local/lib/python3.11/dist-packages (from torch==2.6.0->torchvision) (4.13.2)\n",
            "Requirement already satisfied: networkx in /usr/local/lib/python3.11/dist-packages (from torch==2.6.0->torchvision) (3.4.2)\n",
            "Requirement already satisfied: jinja2 in /usr/local/lib/python3.11/dist-packages (from torch==2.6.0->torchvision) (3.1.6)\n",
            "Requirement already satisfied: fsspec in /usr/local/lib/python3.11/dist-packages (from torch==2.6.0->torchvision) (2025.3.2)\n",
            "Requirement already satisfied: nvidia-cuda-nvrtc-cu12==12.4.127 in /usr/local/lib/python3.11/dist-packages (from torch==2.6.0->torchvision) (12.4.127)\n",
            "Requirement already satisfied: nvidia-cuda-runtime-cu12==12.4.127 in /usr/local/lib/python3.11/dist-packages (from torch==2.6.0->torchvision) (12.4.127)\n",
            "Requirement already satisfied: nvidia-cuda-cupti-cu12==12.4.127 in /usr/local/lib/python3.11/dist-packages (from torch==2.6.0->torchvision) (12.4.127)\n",
            "Requirement already satisfied: nvidia-cudnn-cu12==9.1.0.70 in /usr/local/lib/python3.11/dist-packages (from torch==2.6.0->torchvision) (9.1.0.70)\n",
            "Requirement already satisfied: nvidia-cublas-cu12==12.4.5.8 in /usr/local/lib/python3.11/dist-packages (from torch==2.6.0->torchvision) (12.4.5.8)\n",
            "Requirement already satisfied: nvidia-cufft-cu12==11.2.1.3 in /usr/local/lib/python3.11/dist-packages (from torch==2.6.0->torchvision) (11.2.1.3)\n",
            "Requirement already satisfied: nvidia-curand-cu12==10.3.5.147 in /usr/local/lib/python3.11/dist-packages (from torch==2.6.0->torchvision) (10.3.5.147)\n",
            "Requirement already satisfied: nvidia-cusolver-cu12==11.6.1.9 in /usr/local/lib/python3.11/dist-packages (from torch==2.6.0->torchvision) (11.6.1.9)\n",
            "Requirement already satisfied: nvidia-cusparse-cu12==12.3.1.170 in /usr/local/lib/python3.11/dist-packages (from torch==2.6.0->torchvision) (12.3.1.170)\n",
            "Requirement already satisfied: nvidia-cusparselt-cu12==0.6.2 in /usr/local/lib/python3.11/dist-packages (from torch==2.6.0->torchvision) (0.6.2)\n",
            "Requirement already satisfied: nvidia-nccl-cu12==2.21.5 in /usr/local/lib/python3.11/dist-packages (from torch==2.6.0->torchvision) (2.21.5)\n",
            "Requirement already satisfied: nvidia-nvtx-cu12==12.4.127 in /usr/local/lib/python3.11/dist-packages (from torch==2.6.0->torchvision) (12.4.127)\n",
            "Requirement already satisfied: nvidia-nvjitlink-cu12==12.4.127 in /usr/local/lib/python3.11/dist-packages (from torch==2.6.0->torchvision) (12.4.127)\n",
            "Requirement already satisfied: triton==3.2.0 in /usr/local/lib/python3.11/dist-packages (from torch==2.6.0->torchvision) (3.2.0)\n",
            "Requirement already satisfied: sympy==1.13.1 in /usr/local/lib/python3.11/dist-packages (from torch==2.6.0->torchvision) (1.13.1)\n",
            "Requirement already satisfied: mpmath<1.4,>=1.1.0 in /usr/local/lib/python3.11/dist-packages (from sympy==1.13.1->torch==2.6.0->torchvision) (1.3.0)\n",
            "Requirement already satisfied: MarkupSafe>=2.0 in /usr/local/lib/python3.11/dist-packages (from jinja2->torch==2.6.0->torchvision) (3.0.2)\n"
          ]
        }
      ]
    },
    {
      "cell_type": "code",
      "source": [],
      "metadata": {
        "id": "ubFVS6jZGbQM"
      },
      "execution_count": null,
      "outputs": []
    },
    {
      "cell_type": "markdown",
      "source": [
        "### Change device: run training on GPU"
      ],
      "metadata": {
        "id": "5-sH6517lJ97"
      }
    },
    {
      "cell_type": "markdown",
      "source": [
        "Training involves many large matrix computations. In general, this is done faster if it is parellelized over multiple cores. One can determine which device, either `cuda` (for GPU) or `cpu`, is used for training. Both model and data must be moved to the right device.\n",
        "\n",
        "However, in Colab this prevents to save and load the whole CNN model with `save(model, filename)` and `load(filename, weights_only=False)`.\n",
        "\n",
        "The alternatives are:\n",
        "- saving platform independent form of the model using `jit` (this notebook T9d)\n",
        "-  a more robust approach is to save the model's state_dict instead of the entire model object with `torch.save(model.state_dict(), model_filename)`. Saving the state_dict saves the model's learned parameters (weights and biases), which are picklable, and is the recommended way to save PyTorch models. To load, you would first instantiate the model architecture and then load the state_dict (see compagnion notebook T9c)\n"
      ],
      "metadata": {
        "id": "fDEgBImflJ98"
      }
    },
    {
      "cell_type": "code",
      "source": [
        "# in general, one would use \"cuda\" if available\n",
        "device = torch.device(\"cuda\" if torch.cuda.is_available() else \"cpu\")\n",
        "print(f\"Using device: {device}\")"
      ],
      "metadata": {
        "colab": {
          "base_uri": "https://localhost:8080/"
        },
        "id": "hcZSM_JSlJ98",
        "outputId": "b54625fe-b0e9-4424-fb89-882bd86357ca"
      },
      "execution_count": 32,
      "outputs": [
        {
          "output_type": "stream",
          "name": "stdout",
          "text": [
            "Using device: cuda\n"
          ]
        }
      ]
    },
    {
      "cell_type": "markdown",
      "source": [
        "### Step 1: Data preparation (MNIST)"
      ],
      "metadata": {
        "id": "FO176GNHrKrc"
      }
    },
    {
      "cell_type": "code",
      "source": [
        "W,H=8,8 # height and width of resize images (input size for CNN)\n",
        "C=1 # input channels (gray image)\n",
        "batch_size = 64\n",
        "\n",
        "# Define a transformation to flatten the 8x8 images\n",
        "transform = transforms.Compose([\n",
        "    transforms.Resize((W, H)),         # Resize the PIL Image to 8x8 first (MNIST images are originally 28x28)\n",
        "    transforms.ToTensor(),             # Then convert to tensor\n",
        "    #transforms.Lambda(lambda x: x.view(-1))  # While in notebook T7, we had flatenned the tensor, here we want it to be a 2D array\n",
        "])\n",
        "\n",
        "# Load the MNIST dataset\n",
        "train_dataset = datasets.MNIST(root='./data', train=True, download=True, transform=transform)\n",
        "test_dataset = datasets.MNIST(root='./data', train=False, download=True, transform=transform)\n",
        "\n",
        "# Create DataLoaders\n",
        "train_loader = DataLoader(train_dataset, batch_size=batch_size, shuffle=True)\n",
        "test_loader = DataLoader(test_dataset, batch_size=batch_size, shuffle=False)"
      ],
      "metadata": {
        "collapsed": true,
        "id": "Xd5AJl9TrYTB"
      },
      "execution_count": 48,
      "outputs": []
    },
    {
      "cell_type": "markdown",
      "source": [
        "#### Visualize some examples and labels"
      ],
      "metadata": {
        "id": "h_HCmOqQ3Jp0"
      }
    },
    {
      "cell_type": "markdown",
      "source": [
        "Note that we need to apply `.squeeze`to convert the (1,8,8) shape into a rank 2 tensor with shape (8,8)."
      ],
      "metadata": {
        "id": "GwidFLlG4Hdc"
      }
    },
    {
      "cell_type": "code",
      "source": [
        "# Assuming each image has shape (C,W,H)=(1, 8, 8)\n",
        "images, labels = zip(*[train_dataset[i] for i in range(12)])\n",
        "\n",
        "fig, axes = plt.subplots(3, 4, figsize=(9, 12))\n",
        "for i, ax in enumerate(axes.flat):\n",
        "    img = images[i].squeeze(0) # Remove the channel dimension (1,) -> (8, 8)\n",
        "    ax.imshow(img, cmap='gray')\n",
        "    ax.set_title(str(labels[i]), fontsize=12)\n",
        "    ax.axis('off')\n",
        "\n",
        "plt.tight_layout()\n",
        "plt.show()"
      ],
      "metadata": {
        "id": "j4vJWgbk4rqa",
        "outputId": "d3bb0d46-ffa0-4df3-8335-7b3d2062d6d5",
        "colab": {
          "base_uri": "https://localhost:8080/",
          "height": 990
        }
      },
      "execution_count": 35,
      "outputs": [
        {
          "output_type": "display_data",
          "data": {
            "text/plain": [
              "<Figure size 900x1200 with 12 Axes>"
            ],
            "image/png": "[encoded data removed]"
          },
          "metadata": {}
        }
      ]
    },
    {
      "cell_type": "markdown",
      "source": [
        "## Step 2: Model development (CNN)"
      ],
      "metadata": {
        "id": "4cLf5yYEKCei"
      }
    },
    {
      "cell_type": "markdown",
      "metadata": {
        "id": "MgF4HmK97sgo"
      },
      "source": [
        "We create a CNN from scratch with `torch.nn.Conv2d` (https://docs.pytorch.org/docs/stable/generated/torch.nn.Conv2d.html). First, we'll define a function with the basic parameters we'll use in each convolution. Each layer receives `ic` channels of input and produces `oc` output channels.\n",
        "\n",
        "The input of the CNN has shape (N,C,W,H) where N is the batch size, C is the number of input channels, W and H are the width and height of each image. The image size of the input and output of a single convolutional layer are in general different (the output size in this case is half of the input size), but it depends on the parameters of the convolution."
      ]
    },
    {
      "cell_type": "code",
      "execution_count": 36,
      "metadata": {
        "id": "4N6_WTVu7sgq",
        "colab": {
          "base_uri": "https://localhost:8080/"
        },
        "outputId": "4f876443-3fff-4d3d-a2ee-37568d2fa73b"
      },
      "outputs": [
        {
          "output_type": "stream",
          "name": "stdout",
          "text": [
            "torch.Size([64, 10])\n"
          ]
        }
      ],
      "source": [
        "# Convolutional block with batch normalization: ic=input channels; oc=output channels\n",
        "def conv(ic, oc, act=True):\n",
        "    ks = 3\n",
        "    layers = [\n",
        "        nn.Conv2d(ic, oc, stride=2, kernel_size=ks, padding=ks//2),\n",
        "        nn.BatchNorm2d(oc)  # insert nn.BatchNorm2d layer after each convolution and before the activation (ReLU).\n",
        "    ]\n",
        "    return nn.Sequential(*layers)\n",
        "\n",
        "# Build the CNN model with layers of conv(ic,oc) and Dropout\n",
        "ks = 3\n",
        "simple_cnn = nn.Sequential(\n",
        "    conv(1, 8),              # convolution and batchnorm; Output: 4x4\n",
        "    nn.Dropout2d(p=0.25),    # Add 2D Dropout after the first conv layer (common for CNNs)\n",
        "    nn.ReLU(),               # activation layer\n",
        "    conv(8, 16),             # Output: 2x2\n",
        "    nn.Dropout2d(p=0.25),    # Add 2D Dropout after the second conv layer\n",
        "    nn.ReLU(),               # activation layer\n",
        "    conv(16, 10, act=False), # Output: 1x1\n",
        "    nn.Flatten(), # Use the predefined nn.Flatten layer\n",
        "    # You could also add a standard nn.Dropout here if you had a fully connected layer after Flatten,\n",
        "    # but in this specific architecture, Flatten is followed directly by the output layer.\n",
        ")\n",
        "# Example usage with a dummy input\n",
        "xb = torch.randn(batch_size, C, W, H)  # (N,C,W,H): batch size 64, 1 channel, 8*8 image\n",
        "output = simple_cnn(xb)\n",
        "print(output.shape)  # torch.Size([64, 10])"
      ]
    },
    {
      "cell_type": "code",
      "source": [
        "from torchsummary import summary\n",
        "# Move the model to the selected device before summarizing\n",
        "simple_cnn.to(device)\n",
        "# For your model, input size is (1, 8, 8) (channels, height, width)\n",
        "summary(simple_cnn, input_size=(C, W, H), device=str(device))\n"
      ],
      "metadata": {
        "colab": {
          "base_uri": "https://localhost:8080/"
        },
        "id": "ECGpSRWkM4ng",
        "outputId": "f9e49591-b592-4aab-f392-a4d15bf5b77e"
      },
      "execution_count": 37,
      "outputs": [
        {
          "output_type": "stream",
          "name": "stdout",
          "text": [
            "----------------------------------------------------------------\n",
            "        Layer (type)               Output Shape         Param #\n",
            "================================================================\n",
            "            Conv2d-1              [-1, 8, 4, 4]              80\n",
            "       BatchNorm2d-2              [-1, 8, 4, 4]              16\n",
            "         Dropout2d-3              [-1, 8, 4, 4]               0\n",
            "              ReLU-4              [-1, 8, 4, 4]               0\n",
            "            Conv2d-5             [-1, 16, 2, 2]           1,168\n",
            "       BatchNorm2d-6             [-1, 16, 2, 2]              32\n",
            "         Dropout2d-7             [-1, 16, 2, 2]               0\n",
            "              ReLU-8             [-1, 16, 2, 2]               0\n",
            "            Conv2d-9             [-1, 10, 1, 1]           1,450\n",
            "      BatchNorm2d-10             [-1, 10, 1, 1]              20\n",
            "          Flatten-11                   [-1, 10]               0\n",
            "================================================================\n",
            "Total params: 2,766\n",
            "Trainable params: 2,766\n",
            "Non-trainable params: 0\n",
            "----------------------------------------------------------------\n",
            "Input size (MB): 0.00\n",
            "Forward/backward pass size (MB): 0.01\n",
            "Params size (MB): 0.01\n",
            "Estimated Total Size (MB): 0.02\n",
            "----------------------------------------------------------------\n"
          ]
        }
      ]
    },
    {
      "cell_type": "markdown",
      "source": [
        "## Step 3: Model training (and saving model in platform independent JIT format)"
      ],
      "metadata": {
        "id": "-l47-KLnxD-f"
      }
    },
    {
      "cell_type": "markdown",
      "source": [
        "This function `compute_accuracy` is not necessary for training. It will be used to keep track of the accuracy for each batch of examples and used to estimate accuracy after each epoch, both for training and for validation data sets."
      ],
      "metadata": {
        "id": "cfS4g-pYfylS"
      }
    },
    {
      "cell_type": "code",
      "source": [
        "# Computes the accuracy for a batch: outputs are probability-like values\n",
        "def compute_accuracy(outputs, labels):\n",
        "    _, predicted = torch.max(outputs.data, 1)\n",
        "    correct = (predicted == labels).sum().item()\n",
        "    total = len(labels)\n",
        "    return correct / total"
      ],
      "metadata": {
        "id": "T8ZK_0n3bBum"
      },
      "execution_count": 39,
      "outputs": []
    },
    {
      "cell_type": "markdown",
      "source": [
        "### Training"
      ],
      "metadata": {
        "id": "iDah6bXVX8fe"
      }
    },
    {
      "cell_type": "markdown",
      "source": [
        "This is the main train look in PyTorch. Note that a few extra functionalities were added to keep track of estimated accuracies.\n",
        "\n",
        "A the end of each epoch, the model is saved into a file. In general, this is not done for large models but it allow us to re-use later each trained model for any epoch."
      ],
      "metadata": {
        "id": "Iga9jnabgHOv"
      }
    },
    {
      "cell_type": "code",
      "source": [
        "num_epochs=6\n",
        "model = simple_cnn\n",
        "\n",
        "# Loss and optimizer\n",
        "criterion = nn.CrossEntropyLoss()\n",
        "optimizer = optim.Adam(model.parameters(), lr=0.001)\n",
        "\n",
        "model.to(device) #<<<<<<<<<< move model to device\n",
        "\n",
        "# History object to keep track of accuracy along epochs\n",
        "history = {'epoch': [], 'train_accuracy': [], 'val_accuracy': []}\n",
        "\n",
        "for epoch in range(num_epochs):\n",
        "    print(f'epoch: {epoch+1}; time: {round(time.time())}')\n",
        "    model.train()\n",
        "    batch_accuracies=[] # to store estimated accuracy for each batch\n",
        "    # loop through batches of examples\n",
        "    for images, labels in train_loader:\n",
        "        images = images.to(device)  #<<<<<<<<<< move data to device\n",
        "        labels = labels.to(device)  #<<<<<<<<<< move data to device\n",
        "        outputs = model(images)\n",
        "        loss = criterion(outputs, labels)\n",
        "        optimizer.zero_grad()\n",
        "        loss.backward()\n",
        "        optimizer.step()\n",
        "        # compute accuracy over the batch\n",
        "        batch_accuracies.append(compute_accuracy(outputs, labels))\n",
        "    history['epoch'].append(epoch+1)\n",
        "    history['train_accuracy'].append(sum(batch_accuracies) / len(batch_accuracies))\n",
        "    print(f'epoch: {epoch+1}; accuracy: {sum(batch_accuracies) / len(batch_accuracies)}')\n",
        "    # save current model before next epoch\n",
        "    model_filename=f'simple_cnn_jit_epoch_{epoch+1}.pt'\n",
        "    # Save the trained model in JIT format <<<<<<<<<<<<<<<<<<<<<<<<<<<< JIT format\n",
        "    model.eval() # Set the model to evaluation mode\n",
        "    with torch.no_grad(): # Disable gradient calculation for JIT tracing\n",
        "        # Create a dummy input matching the expected input shape of the model\n",
        "        dummy_input = torch.randn(1, C, W, H).to(device)\n",
        "        # Trace the model with the dummy input\n",
        "        traced_model = torch.jit.trace(model, dummy_input)\n",
        "    # Save the traced model to a file\n",
        "    traced_model.save(model_filename)"
      ],
      "metadata": {
        "id": "ZxUKDQKbyomh",
        "colab": {
          "base_uri": "https://localhost:8080/"
        },
        "outputId": "8c9a13f0-4978-49b8-fef8-0e01c74d7021"
      },
      "execution_count": 49,
      "outputs": [
        {
          "output_type": "stream",
          "name": "stdout",
          "text": [
            "epoch: 1; time: 1748438396\n",
            "epoch: 1; accuracy: 0.8733841950959488\n",
            "epoch: 2; time: 1748438406\n",
            "epoch: 2; accuracy: 0.8728844616204691\n",
            "epoch: 3; time: 1748438416\n",
            "epoch: 3; accuracy: 0.8755163912579957\n",
            "epoch: 4; time: 1748438427\n",
            "epoch: 4; accuracy: 0.8754664179104478\n",
            "epoch: 5; time: 1748438437\n",
            "epoch: 5; accuracy: 0.878981210021322\n",
            "epoch: 6; time: 1748438447\n",
            "epoch: 6; accuracy: 0.8791811034115139\n"
          ]
        }
      ]
    },
    {
      "cell_type": "markdown",
      "source": [
        "## Step 4: Validation (and loading model in JIT format)"
      ],
      "metadata": {
        "id": "V8DZljJx5Csm"
      }
    },
    {
      "cell_type": "markdown",
      "source": [
        "Validation is important for several goals, including:\n",
        "- to estimate the accuracy of the model for the task at hand;\n",
        "- to determine the optimal number of iterations (epochs);\n",
        "- to be able to tune the model choosing the best hyperparameters.\n",
        "\n",
        "Below, we will concentrate on the first two of those issues, and we will compare the estimated overall accuracy over the train and the test sets. In order to do this need to keep track of the intermediate results for each epoch and each batch of examples."
      ],
      "metadata": {
        "id": "mHGiUPJt5Gq-"
      }
    },
    {
      "cell_type": "markdown",
      "source": [
        "### Load the JIT model file"
      ],
      "metadata": {
        "id": "dyphR2NvFhK_"
      }
    },
    {
      "cell_type": "code",
      "source": [
        "history['val_accuracy']=[]\n",
        "for epoch in range(num_epochs):\n",
        "    print(f'epoch: {epoch+1}; time: {round(time.time())}')\n",
        "    # Define the path to the saved JIT model file\n",
        "    jit_model_filename = f'simple_cnn_jit_epoch_{epoch+1}.pt'\n",
        "    # Load the traced model from the file\n",
        "    # Ensure the model is loaded onto the correct device\n",
        "    model = torch.jit.load(jit_model_filename, map_location=device)\n",
        "    print(f\"Model loaded from {jit_model_filename}\")\n",
        "    model.eval() # Set the loaded model to evaluation mode\n",
        "    batch_accuracies=[]\n",
        "    with torch.no_grad():\n",
        "        # loop through batches of examples\n",
        "        for images, labels in test_loader:\n",
        "            images = images.to(device)  #<<<<<<<<<< move data to device\n",
        "            labels = labels.to(device)  #<<<<<<<<<< move data to device\n",
        "            outputs = model(images)\n",
        "            # compute accuracy over the batch\n",
        "            batch_accuracies.append(compute_accuracy(outputs, labels))\n",
        "        history['val_accuracy'].append(sum(batch_accuracies) / len(batch_accuracies))\n",
        "        print(f'epoch: {epoch+1}; accuracy: {sum(batch_accuracies) / len(batch_accuracies)}')\n",
        ""
      ],
      "metadata": {
        "id": "0m9K5d8a6e0d",
        "colab": {
          "base_uri": "https://localhost:8080/"
        },
        "outputId": "c1e77306-5160-47e9-9f03-9e03aed679e0"
      },
      "execution_count": 56,
      "outputs": [
        {
          "output_type": "stream",
          "name": "stdout",
          "text": [
            "epoch: 1; time: 1748439124\n",
            "Model loaded from simple_cnn_jit_epoch_1.pt\n",
            "epoch: 1; accuracy: 0.9449641719745223\n",
            "epoch: 2; time: 1748439126\n",
            "Model loaded from simple_cnn_jit_epoch_2.pt\n",
            "epoch: 2; accuracy: 0.9449641719745223\n",
            "epoch: 3; time: 1748439127\n",
            "Model loaded from simple_cnn_jit_epoch_3.pt\n",
            "epoch: 3; accuracy: 0.9436703821656051\n",
            "epoch: 4; time: 1748439129\n",
            "Model loaded from simple_cnn_jit_epoch_4.pt\n",
            "epoch: 4; accuracy: 0.9460589171974523\n",
            "epoch: 5; time: 1748439130\n",
            "Model loaded from simple_cnn_jit_epoch_5.pt\n",
            "epoch: 5; accuracy: 0.9483479299363057\n",
            "epoch: 6; time: 1748439131\n",
            "Model loaded from simple_cnn_jit_epoch_6.pt\n",
            "epoch: 6; accuracy: 0.9445660828025477\n"
          ]
        }
      ]
    },
    {
      "cell_type": "markdown",
      "source": [
        "### Plot training and validation estimated accuracies"
      ],
      "metadata": {
        "id": "D-kxnJmNdtHT"
      }
    },
    {
      "cell_type": "code",
      "source": [
        "# accuracy plot\n",
        "plt.plot(history['epoch'], history['train_accuracy'], label='Train Accuracy')\n",
        "plt.plot(history['epoch'], history['val_accuracy'], label='Validation Accuracy')\n",
        "plt.xlabel('Epoch')\n",
        "plt.ylabel('Accuracy (%)')\n",
        "plt.title('Train and Validation Accuracy over Epochs')\n",
        "plt.legend()\n",
        "plt.grid(True)\n",
        "plt.show()"
      ],
      "metadata": {
        "colab": {
          "base_uri": "https://localhost:8080/",
          "height": 472
        },
        "id": "pNC9L7p976Xt",
        "outputId": "37b82d05-9cb8-44a2-f767-a965aa8e96f1"
      },
      "execution_count": 57,
      "outputs": [
        {
          "output_type": "display_data",
          "data": {
            "text/plain": [
              "<Figure size 640x480 with 1 Axes>"
            ],
            "image/png": "[encoded data removed]"
          },
          "metadata": {}
        }
      ]
    }
  ]
}