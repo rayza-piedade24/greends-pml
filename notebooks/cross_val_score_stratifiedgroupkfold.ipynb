{
  "nbformat": 4,
  "nbformat_minor": 0,
  "metadata": {
    "colab": {
      "provenance": [],
      "authorship_tag": "ABX9TyPawi/0SL40QsX1lO0ZaOI+",
      "include_colab_link": true
    },
    "kernelspec": {
      "name": "python3",
      "display_name": "Python 3"
    },
    "language_info": {
      "name": "python"
    }
  },
  "cells": [
    {
      "cell_type": "markdown",
      "metadata": {
        "id": "view-in-github",
        "colab_type": "text"
      },
      "source": [
        "<a href=\"https://colab.research.google.com/github/isa-ulisboa/greends-pml/blob/main/notebooks/cross_val_score_stratifiedgroupkfold.ipynb\" target=\"_parent\"><img src=\"https://colab.research.google.com/assets/colab-badge.svg\" alt=\"Open In Colab\"/></a>"
      ]
    },
    {
      "cell_type": "code",
      "execution_count": 25,
      "metadata": {
        "colab": {
          "base_uri": "https://localhost:8080/"
        },
        "id": "J8oPbW29jUra",
        "outputId": "3de81952-62f1-41f8-b3f0-4c1a3246b973"
      },
      "outputs": [
        {
          "output_type": "stream",
          "name": "stdout",
          "text": [
            "[]\n",
            "[0.36429269 0.32699376]\n"
          ]
        },
        {
          "output_type": "stream",
          "name": "stderr",
          "text": [
            "/usr/local/lib/python3.11/dist-packages/sklearn/model_selection/_split.py:1023: UserWarning: The least populated class in y has only 1 members, which is less than n_splits=2.\n",
            "  warnings.warn(\n"
          ]
        }
      ],
      "source": [
        "from sklearn import datasets, linear_model\n",
        "from sklearn.model_selection import cross_val_score\n",
        "diabetes = datasets.load_diabetes()\n",
        "from sklearn.model_selection import StratifiedGroupKFold\n",
        "\n",
        "\n",
        "X = diabetes.data[:]\n",
        "y = diabetes.target[:]\n",
        "lasso = linear_model.Lasso()\n",
        "\n",
        "print(diabetes.data[:0].flatten())\n",
        "\n",
        "skf = StratifiedGroupKFold(n_splits=2)\n",
        "# Access the 'data' attribute and then slice it\n",
        "results = cross_val_score(lasso, X, y, cv=skf, groups=diabetes.data[:,0])\n",
        "print(results)"
      ]
    },
    {
      "cell_type": "code",
      "source": [
        "# prompt: I want a boolean array that indicate sif diabetes.data[:0].flatten()>100\n",
        "\n",
        "from sklearn import datasets, linear_model\n",
        "from sklearn.model_selection import cross_val_score\n",
        "from sklearn.model_selection import StratifiedGroupKFold\n",
        "\n",
        "diabetes = datasets.load_diabetes()\n",
        "\n",
        "X = diabetes.data[:]\n",
        "y = diabetes.target[:]\n",
        "lasso = linear_model.Lasso()\n",
        "\n",
        "print(y)\n",
        "\n",
        "# Create a boolean array indicating if values are greater than 100\n",
        "boolean_array = diabetes.data[:, 0].flatten() > 0\n",
        "\n",
        "print(boolean_array)\n",
        "\n",
        "skf = StratifiedGroupKFold(n_splits=2)\n",
        "# Access the 'data' attribute and then slice it\n",
        "results = cross_val_score(lasso, X, y, cv=skf, groups=boolean_array)\n",
        "results\n"
      ],
      "metadata": {
        "colab": {
          "base_uri": "https://localhost:8080/"
        },
        "id": "1VNYtolPjjZg",
        "outputId": "24cb0e56-f3a7-465f-f7e6-d1e6a828fc28"
      },
      "execution_count": 31,
      "outputs": [
        {
          "output_type": "stream",
          "name": "stdout",
          "text": [
            "[151.  75. 141. 206. 135.  97. 138.  63. 110. 310. 101.  69. 179. 185.\n",
            " 118. 171. 166. 144.  97. 168.  68.  49.  68. 245. 184. 202. 137.  85.\n",
            " 131. 283. 129.  59. 341.  87.  65. 102. 265. 276. 252.  90. 100.  55.\n",
            "  61.  92. 259.  53. 190. 142.  75. 142. 155. 225.  59. 104. 182. 128.\n",
            "  52.  37. 170. 170.  61. 144.  52. 128.  71. 163. 150.  97. 160. 178.\n",
            "  48. 270. 202. 111.  85.  42. 170. 200. 252. 113. 143.  51.  52. 210.\n",
            "  65. 141.  55. 134.  42. 111.  98. 164.  48.  96.  90. 162. 150. 279.\n",
            "  92.  83. 128. 102. 302. 198.  95.  53. 134. 144. 232.  81. 104.  59.\n",
            " 246. 297. 258. 229. 275. 281. 179. 200. 200. 173. 180.  84. 121. 161.\n",
            "  99. 109. 115. 268. 274. 158. 107.  83. 103. 272.  85. 280. 336. 281.\n",
            " 118. 317. 235.  60. 174. 259. 178. 128.  96. 126. 288.  88. 292.  71.\n",
            " 197. 186.  25.  84.  96. 195.  53. 217. 172. 131. 214.  59.  70. 220.\n",
            " 268. 152.  47.  74. 295. 101. 151. 127. 237. 225.  81. 151. 107.  64.\n",
            " 138. 185. 265. 101. 137. 143. 141.  79. 292. 178.  91. 116.  86. 122.\n",
            "  72. 129. 142.  90. 158.  39. 196. 222. 277.  99. 196. 202. 155.  77.\n",
            " 191.  70.  73.  49.  65. 263. 248. 296. 214. 185.  78.  93. 252. 150.\n",
            "  77. 208.  77. 108. 160.  53. 220. 154. 259.  90. 246. 124.  67.  72.\n",
            " 257. 262. 275. 177.  71.  47. 187. 125.  78.  51. 258. 215. 303. 243.\n",
            "  91. 150. 310. 153. 346.  63.  89.  50.  39. 103. 308. 116. 145.  74.\n",
            "  45. 115. 264.  87. 202. 127. 182. 241.  66.  94. 283.  64. 102. 200.\n",
            " 265.  94. 230. 181. 156. 233.  60. 219.  80.  68. 332. 248.  84. 200.\n",
            "  55.  85.  89.  31. 129.  83. 275.  65. 198. 236. 253. 124.  44. 172.\n",
            " 114. 142. 109. 180. 144. 163. 147.  97. 220. 190. 109. 191. 122. 230.\n",
            " 242. 248. 249. 192. 131. 237.  78. 135. 244. 199. 270. 164.  72.  96.\n",
            " 306.  91. 214.  95. 216. 263. 178. 113. 200. 139. 139.  88. 148.  88.\n",
            " 243.  71.  77. 109. 272.  60.  54. 221.  90. 311. 281. 182. 321.  58.\n",
            " 262. 206. 233. 242. 123. 167.  63. 197.  71. 168. 140. 217. 121. 235.\n",
            " 245.  40.  52. 104. 132.  88.  69. 219.  72. 201. 110.  51. 277.  63.\n",
            " 118.  69. 273. 258.  43. 198. 242. 232. 175.  93. 168. 275. 293. 281.\n",
            "  72. 140. 189. 181. 209. 136. 261. 113. 131. 174. 257.  55.  84.  42.\n",
            " 146. 212. 233.  91. 111. 152. 120.  67. 310.  94. 183.  66. 173.  72.\n",
            "  49.  64.  48. 178. 104. 132. 220.  57.]\n",
            "[ True False  True False  True False False  True  True False False  True\n",
            "  True  True  True False False  True False False False False False  True\n",
            " False False False False  True  True False False  True  True  True  True\n",
            "  True False False False  True False False  True  True  True False False\n",
            "  True False  True  True False False False False False False  True  True\n",
            " False False False False  True False False  True  True  True False False\n",
            "  True  True  True False False False  True False  True  True False False\n",
            "  True  True False  True False False  True  True False False False False\n",
            "  True False  True False  True  True False  True False  True False  True\n",
            "  True  True  True  True False  True  True False  True  True False  True\n",
            " False  True  True  True False False False  True False  True False False\n",
            "  True False False False False  True  True  True  True False  True False\n",
            "  True False False False False False  True  True False  True  True False\n",
            " False False False False False False False  True  True False False  True\n",
            "  True False  True False  True False  True  True  True  True  True False\n",
            " False  True  True  True  True False False False  True False  True False\n",
            "  True  True False  True False  True False  True  True False  True False\n",
            "  True False  True  True  True  True  True  True  True  True  True  True\n",
            "  True  True False False  True False False False False  True False  True\n",
            " False False False  True  True  True  True  True  True  True  True  True\n",
            "  True  True False  True False False  True False False False  True False\n",
            "  True  True  True  True False False  True  True  True  True False False\n",
            "  True False False  True  True  True  True  True  True  True  True False\n",
            "  True False  True  True  True False  True False  True  True False  True\n",
            "  True False  True  True  True False  True False  True  True  True  True\n",
            "  True False  True  True  True False  True  True  True False False  True\n",
            " False  True False  True  True  True  True  True False  True  True  True\n",
            "  True False  True  True False False  True  True  True  True False  True\n",
            " False  True False  True False  True  True False False  True  True  True\n",
            "  True  True False False  True False False False False False False  True\n",
            "  True  True  True False  True  True False False False False  True  True\n",
            " False False False  True False  True  True False  True False  True  True\n",
            "  True  True  True False  True False  True False False False  True False\n",
            " False  True  True  True False  True  True False False  True False  True\n",
            "  True False False  True  True False  True False False False  True False\n",
            "  True  True False  True  True False  True False  True False False  True\n",
            "  True False  True False False  True False  True False False]\n"
          ]
        },
        {
          "output_type": "stream",
          "name": "stderr",
          "text": [
            "/usr/local/lib/python3.11/dist-packages/sklearn/model_selection/_split.py:1023: UserWarning: The least populated class in y has only 1 members, which is less than n_splits=2.\n",
            "  warnings.warn(\n"
          ]
        },
        {
          "output_type": "execute_result",
          "data": {
            "text/plain": [
              "array([0.311363  , 0.19644384])"
            ]
          },
          "metadata": {},
          "execution_count": 31
        }
      ]
    },
    {
      "cell_type": "code",
      "source": [],
      "metadata": {
        "id": "Y2D-Cuvrmntz"
      },
      "execution_count": null,
      "outputs": []
    }
  ]
}