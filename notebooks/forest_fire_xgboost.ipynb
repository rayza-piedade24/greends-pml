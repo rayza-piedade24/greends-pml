{
  "nbformat": 4,
  "nbformat_minor": 0,
  "metadata": {
    "colab": {
      "provenance": [],
      "machine_shape": "hm",
      "gpuType": "A100",
      "authorship_tag": "ABX9TyPz5RL6Y17ihEVb4NMO58WB",
      "include_colab_link": true
    },
    "kernelspec": {
      "name": "python3",
      "display_name": "Python 3"
    },
    "language_info": {
      "name": "python"
    },
    "accelerator": "GPU"
  },
  "cells": [
    {
      "cell_type": "markdown",
      "metadata": {
        "id": "view-in-github",
        "colab_type": "text"
      },
      "source": [
        "<a href=\"https://colab.research.google.com/github/isa-ulisboa/greends-pml/blob/main/notebooks/forest_fire_xgboost.ipynb\" target=\"_parent\"><img src=\"https://colab.research.google.com/assets/colab-badge.svg\" alt=\"Open In Colab\"/></a>"
      ]
    },
    {
      "cell_type": "code",
      "source": [
        "import kagglehub\n",
        "import pandas as pd\n",
        "\n",
        "# Download latest version\n",
        "path = kagglehub.dataset_download(\"vikasukani/forest-firearea-datasets\")\n",
        "\n",
        "print(\"Path to dataset files:\", path)\n",
        "df=pd.read_csv(path+'/forestfires.csv')\n",
        "\n",
        "\n"
      ],
      "metadata": {
        "id": "9KnVcpqRnH5G",
        "colab": {
          "base_uri": "https://localhost:8080/"
        },
        "outputId": "4c46073c-9666-4841-b8c5-a48371be1575"
      },
      "execution_count": 1,
      "outputs": [
        {
          "output_type": "stream",
          "name": "stdout",
          "text": [
            "Downloading from https://www.kaggle.com/api/v1/datasets/download/vikasukani/forest-firearea-datasets?dataset_version_number=1...\n"
          ]
        },
        {
          "output_type": "stream",
          "name": "stderr",
          "text": [
            "100%|██████████| 7.10k/7.10k [00:00<00:00, 15.0MB/s]"
          ]
        },
        {
          "output_type": "stream",
          "name": "stdout",
          "text": [
            "Extracting files...\n",
            "Path to dataset files: /root/.cache/kagglehub/datasets/vikasukani/forest-firearea-datasets/versions/1\n"
          ]
        },
        {
          "output_type": "stream",
          "name": "stderr",
          "text": [
            "\n"
          ]
        }
      ]
    },
    {
      "cell_type": "code",
      "source": [
        "\n",
        "# Rename 'area' column to 'y' and the rest to 'X'\n",
        "y = df['area']\n",
        "X = df.drop(['X', 'Y','area'], axis=1)"
      ],
      "metadata": {
        "id": "yUOcKvtKopbG"
      },
      "execution_count": 2,
      "outputs": []
    },
    {
      "cell_type": "code",
      "source": [
        "X.columns"
      ],
      "metadata": {
        "colab": {
          "base_uri": "https://localhost:8080/"
        },
        "id": "vYQwXkbto44Q",
        "outputId": "7c061c55-380b-4f2d-ca9a-d40b9acfe9fa"
      },
      "execution_count": 3,
      "outputs": [
        {
          "output_type": "execute_result",
          "data": {
            "text/plain": [
              "Index(['month', 'day', 'FFMC', 'DMC', 'DC', 'ISI', 'temp', 'RH', 'wind',\n",
              "       'rain'],\n",
              "      dtype='object')"
            ]
          },
          "metadata": {},
          "execution_count": 3
        }
      ]
    },
    {
      "cell_type": "code",
      "source": [
        "import pandas as pd\n",
        "# pre-processing, missing values\n",
        "from sklearn.compose import ColumnTransformer\n",
        "from sklearn.impute import SimpleImputer\n",
        "from sklearn.preprocessing import OneHotEncoder, StandardScaler, Normalizer\n",
        "\n",
        "# to pass model to a function\n",
        "from sklearn.base import clone\n",
        "\n",
        "# pipeline\n",
        "from sklearn.pipeline import Pipeline\n",
        "\n",
        "# some models\n",
        "from sklearn.ensemble import RandomForestClassifier\n",
        "import xgboost as xgb\n",
        "\n",
        "# partition data\n",
        "from sklearn.model_selection import train_test_split, GridSearchCV, RepeatedStratifiedKFold, StratifiedKFold, cross_validate\n",
        "\n",
        "# precision metrics\n",
        "from sklearn.metrics import classification_report, ConfusionMatrixDisplay, confusion_matrix\n",
        "import matplotlib.pyplot as plt"
      ],
      "metadata": {
        "id": "b2nadRJvPzfO"
      },
      "execution_count": 11,
      "outputs": []
    },
    {
      "cell_type": "code",
      "source": [
        "categorical_features = ['month', 'day']\n",
        "categorical_transformer = Pipeline(\n",
        "    [\n",
        "        ('imputer_cat', SimpleImputer(strategy = 'most_frequent')),\n",
        "        ('onehot', OneHotEncoder(handle_unknown = 'ignore'))\n",
        "    ]\n",
        ")\n",
        "\n",
        "numeric_features = ['FFMC', 'DMC', 'DC', 'ISI', 'temp', 'RH', 'wind','rain']\n",
        "numeric_transformer = Pipeline(\n",
        "    [\n",
        "        ('imputer_num', SimpleImputer(strategy = 'mean')),\n",
        "        ('normalizer', Normalizer())\n",
        "    ]\n",
        ")"
      ],
      "metadata": {
        "id": "vLEdEKlsRIQI"
      },
      "execution_count": 5,
      "outputs": []
    },
    {
      "cell_type": "code",
      "source": [
        "preprocessor = ColumnTransformer(\n",
        "    [\n",
        "        ('categoricals', categorical_transformer, categorical_features),\n",
        "        ('numericals', numeric_transformer, numeric_features)\n",
        "    ],\n",
        "    remainder = 'drop' # By default, only the specified columns in transformers are transformed and combined in the output, and the non-specified columns are dropped.\n",
        ")\n"
      ],
      "metadata": {
        "id": "5uAggt5XRMnQ"
      },
      "execution_count": 6,
      "outputs": []
    },
    {
      "cell_type": "code",
      "source": [
        "\n",
        "pipeline = Pipeline(\n",
        "    [\n",
        "        ('preprocessing', preprocessor),\n",
        "        #('clf', RandomForestClassifier(n_estimators=10))\n",
        "        ('clf', xgb.XGBClassifier(n_estimators=1000, learning_rate=0.01, max_depth=4, random_state=1))\n",
        "    ]\n",
        ")\n"
      ],
      "metadata": {
        "id": "oUHHXVI6RRGg"
      },
      "execution_count": 9,
      "outputs": []
    },
    {
      "cell_type": "code",
      "source": [
        "# Rename 'area' column to 'y' and the rest to 'X'\n",
        "y = df['area']\n",
        "X = df.drop(['X', 'Y','area'], axis=1)\n",
        "y= y >5\n",
        "\n",
        "X_train, X_test, y_train, y_test = train_test_split(X, y, test_size=0.20, stratify=y)\n",
        "\n",
        "pipeline.fit(X_train, y_train)\n",
        "\n",
        "y_pred=pipeline.predict(X_test)\n",
        "\n",
        "# confusion matrix\n",
        "confmat = confusion_matrix(y_true=y_test, y_pred=y_pred) #actual, predicted\n",
        "cm_display = ConfusionMatrixDisplay(confusion_matrix = confmat, display_labels = ['do not survive', 'do survive'])\n",
        "cm_display.plot()\n",
        "plt.show()"
      ],
      "metadata": {
        "colab": {
          "base_uri": "https://localhost:8080/",
          "height": 449
        },
        "id": "w4lzqeh6RW_Q",
        "outputId": "2c191813-218a-4c5a-8848-389dfc55f265"
      },
      "execution_count": 10,
      "outputs": [
        {
          "output_type": "display_data",
          "data": {
            "text/plain": [
              "<Figure size 640x480 with 2 Axes>"
            ],
            "image/png": "[encoded data removed]"
          },
          "metadata": {}
        }
      ]
    },
    {
      "cell_type": "code",
      "source": [
        "cv = StratifiedKFold(n_splits=5, shuffle=True, random_state=94)\n",
        "\n",
        "results = []\n",
        "\n",
        "def fit_and_score(estimator, X_train, X_test, y_train, y_test):\n",
        "    pipeline.fit(X_train, y_train)\n",
        "    y_pred=pipeline.predict(X_test)\n",
        "    confmat = confusion_matrix(y_true=y_test, y_pred=y_pred) #actual, predicted\n",
        "    return confmat\n",
        "\n",
        "for train, test in cv.split(X, y):\n",
        "    X_train = X.iloc[train]\n",
        "    X_test = X.iloc[test]\n",
        "    y_train = y.iloc[train]\n",
        "    y_test = y.iloc[test]\n",
        "    confmat = fit_and_score(clone(pipeline), X_train, X_test, y_train, y_test)\n",
        "    results.append(confmat)"
      ],
      "metadata": {
        "id": "oALbCX8PpbrY"
      },
      "execution_count": 17,
      "outputs": []
    },
    {
      "cell_type": "code",
      "source": [
        "print(results)"
      ],
      "metadata": {
        "colab": {
          "base_uri": "https://localhost:8080/"
        },
        "id": "o3G0tz526FLe",
        "outputId": "44085109-8e01-47c2-e5c7-a957ebdd5061"
      },
      "execution_count": 18,
      "outputs": [
        {
          "output_type": "stream",
          "name": "stdout",
          "text": [
            "[array([[61, 13],\n",
            "       [25,  5]]), array([[63, 10],\n",
            "       [26,  5]]), array([[63, 10],\n",
            "       [23,  7]]), array([[61, 12],\n",
            "       [28,  2]]), array([[62, 11],\n",
            "       [27,  3]])]\n"
          ]
        }
      ]
    },
    {
      "cell_type": "code",
      "source": [],
      "metadata": {
        "id": "mfIg56cz6Hdm"
      },
      "execution_count": null,
      "outputs": []
    }
  ]
}