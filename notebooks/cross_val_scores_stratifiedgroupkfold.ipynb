{
  "nbformat": 4,
  "nbformat_minor": 0,
  "metadata": {
    "colab": {
      "provenance": [],
      "authorship_tag": "ABX9TyNv41byMgwmiUsCIZONjBD1",
      "include_colab_link": true
    },
    "kernelspec": {
      "name": "python3",
      "display_name": "Python 3"
    },
    "language_info": {
      "name": "python"
    }
  },
  "cells": [
    {
      "cell_type": "markdown",
      "metadata": {
        "id": "view-in-github",
        "colab_type": "text"
      },
      "source": [
        "<a href=\"https://colab.research.google.com/github/isa-ulisboa/greends-pml/blob/main/notebooks/cross_val_scores_stratifiedgroupkfold.ipynb\" target=\"_parent\"><img src=\"https://colab.research.google.com/assets/colab-badge.svg\" alt=\"Open In Colab\"/></a>"
      ]
    },
    {
      "cell_type": "code",
      "source": [
        "# prompt: I want a boolean array that indicate sif diabetes.data[:0].flatten()>100\n",
        "\n",
        "from sklearn import datasets, linear_model\n",
        "from sklearn.linear_model import LogisticRegression\n",
        "from sklearn.model_selection import cross_val_score\n",
        "from sklearn.model_selection import StratifiedGroupKFold\n",
        "\n",
        "diabetes = datasets.load_diabetes()\n",
        "\n",
        "X = diabetes.data[:]\n",
        "y = diabetes.target[:] > 100\n",
        "lasso = linear_model.Lasso()\n",
        "\n",
        "# Create a boolean array indicating if values are greater than 100\n",
        "boolean_array = diabetes.data[:, 0].flatten() > 0\n",
        "\n",
        "skf = StratifiedGroupKFold(n_splits=2)\n",
        "# Access the 'data' attribute and then slice it\n",
        "results = cross_val_score(LogisticRegression(), X, y, cv=skf, groups=boolean_array)\n",
        "results\n"
      ],
      "metadata": {
        "colab": {
          "base_uri": "https://localhost:8080/"
        },
        "id": "1VNYtolPjjZg",
        "outputId": "945949f0-b46e-4878-b2ad-551751feb548"
      },
      "execution_count": 36,
      "outputs": [
        {
          "output_type": "execute_result",
          "data": {
            "text/plain": [
              "array([0.72916667, 0.5990099 ])"
            ]
          },
          "metadata": {},
          "execution_count": 36
        }
      ]
    },
    {
      "cell_type": "code",
      "source": [],
      "metadata": {
        "id": "Y2D-Cuvrmntz"
      },
      "execution_count": null,
      "outputs": []
    }
  ]
}