{
  "nbformat": 4,
  "nbformat_minor": 0,
  "metadata": {
    "colab": {
      "provenance": [],
      "toc_visible": true,
      "machine_shape": "hm",
      "gpuType": "A100",
      "authorship_tag": "ABX9TyMl4fu6lEIyqgVsFwz1OA2r",
      "include_colab_link": true
    },
    "kernelspec": {
      "name": "python3",
      "display_name": "Python 3"
    },
    "language_info": {
      "name": "python"
    },
    "accelerator": "GPU"
  },
  "cells": [
    {
      "cell_type": "markdown",
      "metadata": {
        "id": "view-in-github",
        "colab_type": "text"
      },
      "source": [
        "<a href=\"https://colab.research.google.com/github/isa-ulisboa/greends-pml/blob/main/notebooks/T9b_MNIST_CNNs_pipeline_save_load_model.ipynb\" target=\"_parent\"><img src=\"https://colab.research.google.com/assets/colab-badge.svg\" alt=\"Open In Colab\"/></a>"
      ]
    },
    {
      "cell_type": "markdown",
      "source": [
        "In this notebook, we present a total pipeline for the MNIST data set, using a custom convolutional neural network `simple_cnn`.\n",
        "\n",
        "We discuss how to save and load the trained model."
      ],
      "metadata": {
        "id": "xx-VaUqLPA2v"
      }
    },
    {
      "cell_type": "code",
      "source": [
        "!pip install torchvision\n",
        "\n",
        "import torch\n",
        "import torch.nn as nn\n",
        "import torch.optim as optim\n",
        "from torchvision import datasets, transforms\n",
        "from torch.utils.data import DataLoader\n",
        "import matplotlib.pyplot as plt\n",
        "import time"
      ],
      "metadata": {
        "collapsed": true,
        "id": "i3Hwef1Jzdi7",
        "colab": {
          "base_uri": "https://localhost:8080/"
        },
        "outputId": "d4731ced-42c5-49f2-d8f1-5a99038c1780"
      },
      "execution_count": 22,
      "outputs": [
        {
          "output_type": "stream",
          "name": "stdout",
          "text": [
            "Requirement already satisfied: torchvision in /usr/local/lib/python3.11/dist-packages (0.21.0+cu124)\n",
            "Requirement already satisfied: numpy in /usr/local/lib/python3.11/dist-packages (from torchvision) (2.0.2)\n",
            "Requirement already satisfied: torch==2.6.0 in /usr/local/lib/python3.11/dist-packages (from torchvision) (2.6.0+cu124)\n",
            "Requirement already satisfied: pillow!=8.3.*,>=5.3.0 in /usr/local/lib/python3.11/dist-packages (from torchvision) (11.2.1)\n",
            "Requirement already satisfied: filelock in /usr/local/lib/python3.11/dist-packages (from torch==2.6.0->torchvision) (3.18.0)\n",
            "Requirement already satisfied: typing-extensions>=4.10.0 in /usr/local/lib/python3.11/dist-packages (from torch==2.6.0->torchvision) (4.13.2)\n",
            "Requirement already satisfied: networkx in /usr/local/lib/python3.11/dist-packages (from torch==2.6.0->torchvision) (3.4.2)\n",
            "Requirement already satisfied: jinja2 in /usr/local/lib/python3.11/dist-packages (from torch==2.6.0->torchvision) (3.1.6)\n",
            "Requirement already satisfied: fsspec in /usr/local/lib/python3.11/dist-packages (from torch==2.6.0->torchvision) (2025.3.2)\n",
            "Requirement already satisfied: nvidia-cuda-nvrtc-cu12==12.4.127 in /usr/local/lib/python3.11/dist-packages (from torch==2.6.0->torchvision) (12.4.127)\n",
            "Requirement already satisfied: nvidia-cuda-runtime-cu12==12.4.127 in /usr/local/lib/python3.11/dist-packages (from torch==2.6.0->torchvision) (12.4.127)\n",
            "Requirement already satisfied: nvidia-cuda-cupti-cu12==12.4.127 in /usr/local/lib/python3.11/dist-packages (from torch==2.6.0->torchvision) (12.4.127)\n",
            "Requirement already satisfied: nvidia-cudnn-cu12==9.1.0.70 in /usr/local/lib/python3.11/dist-packages (from torch==2.6.0->torchvision) (9.1.0.70)\n",
            "Requirement already satisfied: nvidia-cublas-cu12==12.4.5.8 in /usr/local/lib/python3.11/dist-packages (from torch==2.6.0->torchvision) (12.4.5.8)\n",
            "Requirement already satisfied: nvidia-cufft-cu12==11.2.1.3 in /usr/local/lib/python3.11/dist-packages (from torch==2.6.0->torchvision) (11.2.1.3)\n",
            "Requirement already satisfied: nvidia-curand-cu12==10.3.5.147 in /usr/local/lib/python3.11/dist-packages (from torch==2.6.0->torchvision) (10.3.5.147)\n",
            "Requirement already satisfied: nvidia-cusolver-cu12==11.6.1.9 in /usr/local/lib/python3.11/dist-packages (from torch==2.6.0->torchvision) (11.6.1.9)\n",
            "Requirement already satisfied: nvidia-cusparse-cu12==12.3.1.170 in /usr/local/lib/python3.11/dist-packages (from torch==2.6.0->torchvision) (12.3.1.170)\n",
            "Requirement already satisfied: nvidia-cusparselt-cu12==0.6.2 in /usr/local/lib/python3.11/dist-packages (from torch==2.6.0->torchvision) (0.6.2)\n",
            "Requirement already satisfied: nvidia-nccl-cu12==2.21.5 in /usr/local/lib/python3.11/dist-packages (from torch==2.6.0->torchvision) (2.21.5)\n",
            "Requirement already satisfied: nvidia-nvtx-cu12==12.4.127 in /usr/local/lib/python3.11/dist-packages (from torch==2.6.0->torchvision) (12.4.127)\n",
            "Requirement already satisfied: nvidia-nvjitlink-cu12==12.4.127 in /usr/local/lib/python3.11/dist-packages (from torch==2.6.0->torchvision) (12.4.127)\n",
            "Requirement already satisfied: triton==3.2.0 in /usr/local/lib/python3.11/dist-packages (from torch==2.6.0->torchvision) (3.2.0)\n",
            "Requirement already satisfied: sympy==1.13.1 in /usr/local/lib/python3.11/dist-packages (from torch==2.6.0->torchvision) (1.13.1)\n",
            "Requirement already satisfied: mpmath<1.4,>=1.1.0 in /usr/local/lib/python3.11/dist-packages (from sympy==1.13.1->torch==2.6.0->torchvision) (1.3.0)\n",
            "Requirement already satisfied: MarkupSafe>=2.0 in /usr/local/lib/python3.11/dist-packages (from jinja2->torch==2.6.0->torchvision) (3.0.2)\n"
          ]
        }
      ]
    },
    {
      "cell_type": "markdown",
      "source": [
        "### Change device: run training on GPU"
      ],
      "metadata": {
        "id": "5-sH6517lJ97"
      }
    },
    {
      "cell_type": "markdown",
      "source": [
        "Training involves many large matrix computations. In general, this is done faster if it is parellelized over multiple cores. One can determine which device, either `cuda` (for GPU) or `cpu`, is used for training. Both model and data must be moved to the right device.\n",
        "\n",
        "However, in Colab this prevents to save and load the whole CNN model with `save(model, filename)` and `load(filename, weights_only=False)`.\n",
        "\n",
        "The alternatives are:\n",
        "- saving platform independent form of the model using `jit`\n",
        "-  a more robust approach is to save the model's state_dict instead of the entire model object with `torch.save(model.state_dict(), model_filename)`. Saving the state_dict saves the model's learned parameters (weights and biases), which are picklable, and is the recommended way to save PyTorch models. To load, you would first instantiate the model architecture and then load the state_dict.\n"
      ],
      "metadata": {
        "id": "fDEgBImflJ98"
      }
    },
    {
      "cell_type": "code",
      "source": [
        "# in general, one would use \"cuda\" if available\n",
        "device = torch.device(\"cuda\" if torch.cuda.is_available() else \"cpu\")\n",
        "# however, to be able to save and load the complete model we need to use \"cpu\"\n",
        "device = torch.device(\"cpu\")\n",
        "print(f\"Using device: {device}\")"
      ],
      "metadata": {
        "colab": {
          "base_uri": "https://localhost:8080/"
        },
        "id": "hcZSM_JSlJ98",
        "outputId": "06dca13b-8d4f-4871-c8b5-f8d5e070698d"
      },
      "execution_count": 23,
      "outputs": [
        {
          "output_type": "stream",
          "name": "stdout",
          "text": [
            "Using device: cpu\n"
          ]
        }
      ]
    },
    {
      "cell_type": "markdown",
      "source": [
        "### Step 1: Data preparation (MNIST)"
      ],
      "metadata": {
        "id": "FO176GNHrKrc"
      }
    },
    {
      "cell_type": "code",
      "source": [
        "# Define a transformation to flatten the 8x8 images\n",
        "transform = transforms.Compose([\n",
        "    transforms.Resize((8, 8)),         # Resize the PIL Image to 8x8 first (MNIST images are originally 28x28)\n",
        "    transforms.ToTensor(),             # Then convert to tensor\n",
        "    #transforms.Lambda(lambda x: x.view(-1))  # While in notebook T7, we had flatenned the tensor, here we want it to be a 2D array\n",
        "])\n",
        "\n",
        "# Load the MNIST dataset\n",
        "train_dataset = datasets.MNIST(root='./data', train=True, download=True, transform=transform)\n",
        "test_dataset = datasets.MNIST(root='./data', train=False, download=True, transform=transform)\n",
        "\n",
        "# Create DataLoaders\n",
        "batch_size = 64\n",
        "train_loader = DataLoader(train_dataset, batch_size=batch_size, shuffle=True)\n",
        "test_loader = DataLoader(test_dataset, batch_size=batch_size, shuffle=False)"
      ],
      "metadata": {
        "collapsed": true,
        "id": "Xd5AJl9TrYTB"
      },
      "execution_count": 24,
      "outputs": []
    },
    {
      "cell_type": "markdown",
      "source": [
        "#### Visualize some examples and labels"
      ],
      "metadata": {
        "id": "h_HCmOqQ3Jp0"
      }
    },
    {
      "cell_type": "markdown",
      "source": [
        "Note that we need to apply `.squeeze`to convert the (1,8,8) shape into a rank 2 tensor with shape (8,8)."
      ],
      "metadata": {
        "id": "GwidFLlG4Hdc"
      }
    },
    {
      "cell_type": "code",
      "source": [
        "# Assuming each image has shape (C,W,H)=(1, 8, 8)\n",
        "images, labels = zip(*[train_dataset[i] for i in range(12)])\n",
        "\n",
        "fig, axes = plt.subplots(3, 4, figsize=(9, 12))\n",
        "for i, ax in enumerate(axes.flat):\n",
        "    img = images[i].squeeze(0) # Remove the channel dimension (1,) -> (8, 8)\n",
        "    ax.imshow(img, cmap='gray')\n",
        "    ax.set_title(str(labels[i]), fontsize=12)\n",
        "    ax.axis('off')\n",
        "\n",
        "plt.tight_layout()\n",
        "plt.show()"
      ],
      "metadata": {
        "id": "j4vJWgbk4rqa",
        "outputId": "2a6b7a0a-1868-491c-c9e8-39bce8620e79",
        "colab": {
          "base_uri": "https://localhost:8080/",
          "height": 54
        }
      },
      "execution_count": 25,
      "outputs": [
        {
          "output_type": "display_data",
          "data": {
            "text/plain": [
              "<Figure size 900x1200 with 12 Axes>"
            ],
            "image/png": "[encoded data removed]"
          },
          "metadata": {}
        }
      ]
    },
    {
      "cell_type": "markdown",
      "source": [
        "## Step 2: Model development (CNN)"
      ],
      "metadata": {
        "id": "4cLf5yYEKCei"
      }
    },
    {
      "cell_type": "markdown",
      "metadata": {
        "id": "MgF4HmK97sgo"
      },
      "source": [
        "We create a CNN from scratch with `torch.nn.Conv2d` (https://docs.pytorch.org/docs/stable/generated/torch.nn.Conv2d.html). First, we'll define a function with the basic parameters we'll use in each convolution. Each layer receives `ic` channels of input and produces `oc` output channels.\n",
        "\n",
        "The input of the CNN has shape (N,C,W,H) where N is the batch size, C is the number of input channels, W and H are the width and height of each image. The image size of the input and output of a single convolutional layer are in general different (the output size in this case is half of the input size), but it depends on the parameters of the convolution."
      ]
    },
    {
      "cell_type": "code",
      "execution_count": 26,
      "metadata": {
        "id": "4N6_WTVu7sgq",
        "colab": {
          "base_uri": "https://localhost:8080/"
        },
        "outputId": "49f4ba6a-0421-462b-e4bb-5a6a9c5c23f2"
      },
      "outputs": [
        {
          "output_type": "stream",
          "name": "stdout",
          "text": [
            "torch.Size([64, 10])\n"
          ]
        }
      ],
      "source": [
        "# Convolutional block with batch normalization: ic=input channels; oc=output channels\n",
        "def conv(ic, oc, act=True):\n",
        "    ks = 3\n",
        "    layers = [\n",
        "        nn.Conv2d(ic, oc, stride=2, kernel_size=ks, padding=ks//2),\n",
        "        nn.BatchNorm2d(oc)  # insert nn.BatchNorm2d layer after each convolution and before the activation (ReLU).\n",
        "    ]\n",
        "    return nn.Sequential(*layers)\n",
        "\n",
        "# Build the CNN model with layers of conv(ic,oc) and Dropout\n",
        "ks = 3\n",
        "simple_cnn = nn.Sequential(\n",
        "    conv(1, 8),              # convolution and batchnorm; Output: 4x4\n",
        "    nn.Dropout2d(p=0.25),    # Add 2D Dropout after the first conv layer (common for CNNs)\n",
        "    nn.ReLU(),               # activation layer\n",
        "    conv(8, 16),             # Output: 2x2\n",
        "    nn.Dropout2d(p=0.25),    # Add 2D Dropout after the second conv layer\n",
        "    nn.ReLU(),               # activation layer\n",
        "    conv(16, 10, act=False), # Output: 1x1\n",
        "    nn.Flatten(), # Use the predefined nn.Flatten layer\n",
        "    # You could also add a standard nn.Dropout here if you had a fully connected layer after Flatten,\n",
        "    # but in this specific architecture, Flatten is followed directly by the output layer.\n",
        ")\n",
        "# Example usage with a dummy input\n",
        "xb = torch.randn(64, 1, 8, 8)  # (N,C,W,H): batch size 64, 1 channel, 8*8 image\n",
        "output = simple_cnn(xb)\n",
        "print(output.shape)  # torch.Size([64, 10])"
      ]
    },
    {
      "cell_type": "code",
      "source": [
        "from torchsummary import summary\n",
        "# Move the model to the selected device before summarizing\n",
        "simple_cnn.to(device)\n",
        "# For your model, input size is (1, 8, 8) (channels, height, width)\n",
        "summary(simple_cnn, input_size=(1, 8, 8), device=str(device))\n"
      ],
      "metadata": {
        "colab": {
          "base_uri": "https://localhost:8080/"
        },
        "id": "ECGpSRWkM4ng",
        "outputId": "4f8dd8a6-af43-4b92-e6b0-ada272c9f523"
      },
      "execution_count": 27,
      "outputs": [
        {
          "output_type": "stream",
          "name": "stdout",
          "text": [
            "----------------------------------------------------------------\n",
            "        Layer (type)               Output Shape         Param #\n",
            "================================================================\n",
            "            Conv2d-1              [-1, 8, 4, 4]              80\n",
            "       BatchNorm2d-2              [-1, 8, 4, 4]              16\n",
            "         Dropout2d-3              [-1, 8, 4, 4]               0\n",
            "              ReLU-4              [-1, 8, 4, 4]               0\n",
            "            Conv2d-5             [-1, 16, 2, 2]           1,168\n",
            "       BatchNorm2d-6             [-1, 16, 2, 2]              32\n",
            "         Dropout2d-7             [-1, 16, 2, 2]               0\n",
            "              ReLU-8             [-1, 16, 2, 2]               0\n",
            "            Conv2d-9             [-1, 10, 1, 1]           1,450\n",
            "      BatchNorm2d-10             [-1, 10, 1, 1]              20\n",
            "          Flatten-11                   [-1, 10]               0\n",
            "================================================================\n",
            "Total params: 2,766\n",
            "Trainable params: 2,766\n",
            "Non-trainable params: 0\n",
            "----------------------------------------------------------------\n",
            "Input size (MB): 0.00\n",
            "Forward/backward pass size (MB): 0.01\n",
            "Params size (MB): 0.01\n",
            "Estimated Total Size (MB): 0.02\n",
            "----------------------------------------------------------------\n"
          ]
        }
      ]
    },
    {
      "cell_type": "markdown",
      "source": [
        "## Step 3: Model training (and saving model)"
      ],
      "metadata": {
        "id": "-l47-KLnxD-f"
      }
    },
    {
      "cell_type": "markdown",
      "source": [
        "This function `compute_accuracy` is not necessary for training. It will be used to keep track of the accuracy for each batch of examples and used to estimate accuracy after each epoch, both for training and for validation data sets."
      ],
      "metadata": {
        "id": "cfS4g-pYfylS"
      }
    },
    {
      "cell_type": "code",
      "source": [
        "# Computes the accuracy for a batch: outputs are probability-like values\n",
        "def compute_accuracy(outputs, labels):\n",
        "    _, predicted = torch.max(outputs.data, 1)\n",
        "    correct = (predicted == labels).sum().item()\n",
        "    total = len(labels)\n",
        "    return correct / total"
      ],
      "metadata": {
        "id": "T8ZK_0n3bBum"
      },
      "execution_count": 28,
      "outputs": []
    },
    {
      "cell_type": "markdown",
      "source": [
        "### Training"
      ],
      "metadata": {
        "id": "iDah6bXVX8fe"
      }
    },
    {
      "cell_type": "markdown",
      "source": [
        "This is the main train look in PyTorch. Note that a few extra functionalities were added to keep track of estimated accuracies.\n",
        "\n",
        "A the end of each epoch, the model is saved into a file. In general, this is not done for large models but it allow us to re-use later each trained model for any epoch."
      ],
      "metadata": {
        "id": "Iga9jnabgHOv"
      }
    },
    {
      "cell_type": "code",
      "source": [
        "num_epochs = 10\n",
        "model = simple_cnn\n",
        "\n",
        "# Loss and optimizer\n",
        "criterion = nn.CrossEntropyLoss()\n",
        "optimizer = optim.Adam(model.parameters(), lr=0.001)\n",
        "\n",
        "model.to(device) #<<<<<<<<<< move model to device\n",
        "\n",
        "# History object to keep track of accuracy along epochs\n",
        "history = {'epoch': [], 'train_accuracy': [], 'val_accuracy': []}\n",
        "\n",
        "for epoch in range(num_epochs):\n",
        "    print(f'epoch: {epoch+1}; time: {round(time.time())}')\n",
        "    model.train()\n",
        "    batch_accuracies=[] # to store estimated accuracy for each batch\n",
        "    # loop through batches of examples\n",
        "    for images, labels in train_loader:\n",
        "        images = images.to(device)  #<<<<<<<<<< move data to device\n",
        "        labels = labels.to(device)  #<<<<<<<<<< move data to device\n",
        "        outputs = model(images)\n",
        "        loss = criterion(outputs, labels)\n",
        "        optimizer.zero_grad()\n",
        "        loss.backward()\n",
        "        optimizer.step()\n",
        "        # compute accuracy over the batch\n",
        "        batch_accuracies.append(compute_accuracy(outputs, labels))\n",
        "    history['epoch'].append(epoch+1)\n",
        "    history['train_accuracy'].append(sum(batch_accuracies) / len(batch_accuracies))\n",
        "    print(f'epoch: {epoch+1}; accuracy: {sum(batch_accuracies) / len(batch_accuracies)}')\n",
        "    # save current model before next epoch\n",
        "    model_filename=f'simple_cnn_epoch_{epoch+1}.pth'\n",
        "    torch.save(model, model_filename)"
      ],
      "metadata": {
        "id": "ZxUKDQKbyomh",
        "colab": {
          "base_uri": "https://localhost:8080/"
        },
        "outputId": "6e0f647a-b192-478b-adac-d53139b310be"
      },
      "execution_count": 29,
      "outputs": [
        {
          "output_type": "stream",
          "name": "stdout",
          "text": [
            "epoch: 1; time: 1748432012\n",
            "epoch: 1; accuracy: 0.7219316364605544\n",
            "epoch: 2; time: 1748432024\n",
            "epoch: 2; accuracy: 0.828141657782516\n",
            "epoch: 3; time: 1748432035\n",
            "epoch: 3; accuracy: 0.8412180170575693\n",
            "epoch: 4; time: 1748432047\n",
            "epoch: 4; accuracy: 0.8500466417910447\n",
            "epoch: 5; time: 1748432058\n",
            "epoch: 5; accuracy: 0.8566764392324094\n",
            "epoch: 6; time: 1748432069\n",
            "epoch: 6; accuracy: 0.8576259328358209\n",
            "epoch: 7; time: 1748432081\n",
            "epoch: 7; accuracy: 0.8608742004264393\n",
            "epoch: 8; time: 1748432092\n",
            "epoch: 8; accuracy: 0.8627898454157783\n",
            "epoch: 9; time: 1748432103\n",
            "epoch: 9; accuracy: 0.8661380597014925\n",
            "epoch: 10; time: 1748432114\n",
            "epoch: 10; accuracy: 0.8678871268656716\n"
          ]
        }
      ]
    },
    {
      "cell_type": "markdown",
      "source": [
        "## Step 4: Validation (and loading model)"
      ],
      "metadata": {
        "id": "V8DZljJx5Csm"
      }
    },
    {
      "cell_type": "markdown",
      "source": [
        "Validation is important for several goals, including:\n",
        "- to estimate the accuracy of the model for the task at hand;\n",
        "- to determine the optimal number of iterations (epochs);\n",
        "- to be able to tune the model choosing the best hyperparameters.\n",
        "\n",
        "Below, we will concentrate on the first two of those issues, and we will compare the estimated overall accuracy over the train and the test sets. In order to do this need to keep track of the intermediate results for each epoch and each batch of examples."
      ],
      "metadata": {
        "id": "mHGiUPJt5Gq-"
      }
    },
    {
      "cell_type": "markdown",
      "source": [
        "### Loading model and compute predictions for the validation data set"
      ],
      "metadata": {
        "id": "oUeUg1xHkC5i"
      }
    },
    {
      "cell_type": "code",
      "source": [
        "for epoch in range(num_epochs):\n",
        "    print(f'epoch: {epoch+1}; time: {round(time.time())}')\n",
        "    # load model\n",
        "    model_filename=f'simple_cnn_epoch_{epoch+1}.pth'\n",
        "    model=torch.load(model_filename, weights_only=False) # by default, only weights are loaded, and the architecture of the network must be known\n",
        "    model.to(device) #<<<<<<<<<< move model to device\n",
        "    # Validation phase\n",
        "    model.eval()\n",
        "    batch_accuracies=[]\n",
        "    with torch.no_grad():\n",
        "        # loop through batches of examples\n",
        "        for images, labels in test_loader:\n",
        "            images = images.to(device)  #<<<<<<<<<< move data to device\n",
        "            labels = labels.to(device)  #<<<<<<<<<< move data to device\n",
        "            outputs = model(images)\n",
        "            # compute accuracy over the batch\n",
        "            batch_accuracies.append(compute_accuracy(outputs, labels))\n",
        "        history['val_accuracy'].append(sum(batch_accuracies) / len(batch_accuracies))\n",
        "        print(f'epoch: {epoch+1}; accuracy: {sum(batch_accuracies) / len(batch_accuracies)}')\n",
        ""
      ],
      "metadata": {
        "id": "0m9K5d8a6e0d",
        "colab": {
          "base_uri": "https://localhost:8080/"
        },
        "outputId": "a8470fc0-a5fc-4eaa-a73f-48bc0b1071bc"
      },
      "execution_count": 30,
      "outputs": [
        {
          "output_type": "stream",
          "name": "stdout",
          "text": [
            "epoch: 1; time: 1748432125\n",
            "epoch: 1; accuracy: 0.9046576433121019\n",
            "epoch: 2; time: 1748432127\n",
            "epoch: 2; accuracy: 0.9166998407643312\n",
            "epoch: 3; time: 1748432128\n",
            "epoch: 3; accuracy: 0.9265525477707006\n",
            "epoch: 4; time: 1748432130\n",
            "epoch: 4; accuracy: 0.9312300955414012\n",
            "epoch: 5; time: 1748432131\n",
            "epoch: 5; accuracy: 0.9317277070063694\n",
            "epoch: 6; time: 1748432132\n",
            "epoch: 6; accuracy: 0.9339171974522293\n",
            "epoch: 7; time: 1748432134\n",
            "epoch: 7; accuracy: 0.933718152866242\n",
            "epoch: 8; time: 1748432135\n",
            "epoch: 8; accuracy: 0.9382961783439491\n",
            "epoch: 9; time: 1748432137\n",
            "epoch: 9; accuracy: 0.9362062101910829\n",
            "epoch: 10; time: 1748432138\n",
            "epoch: 10; accuracy: 0.9378980891719745\n"
          ]
        }
      ]
    },
    {
      "cell_type": "markdown",
      "source": [
        "### Plot training and validation estimated accuracies"
      ],
      "metadata": {
        "id": "D-kxnJmNdtHT"
      }
    },
    {
      "cell_type": "code",
      "source": [
        "# accuracy plot\n",
        "plt.plot(history['epoch'], history['train_accuracy'], label='Train Accuracy')\n",
        "plt.plot(history['epoch'], history['val_accuracy'], label='Validation Accuracy')\n",
        "plt.xlabel('Epoch')\n",
        "plt.ylabel('Accuracy (%)')\n",
        "plt.title('Train and Validation Accuracy over Epochs')\n",
        "plt.legend()\n",
        "plt.grid(True)\n",
        "plt.show()"
      ],
      "metadata": {
        "colab": {
          "base_uri": "https://localhost:8080/",
          "height": 472
        },
        "id": "pNC9L7p976Xt",
        "outputId": "8c4c4b28-b2f3-49de-bc11-f33b2f06a63e"
      },
      "execution_count": 31,
      "outputs": [
        {
          "output_type": "display_data",
          "data": {
            "text/plain": [
              "<Figure size 640x480 with 1 Axes>"
            ],
            "image/png": "[encoded data removed]"
          },
          "metadata": {}
        }
      ]
    }
  ]
}