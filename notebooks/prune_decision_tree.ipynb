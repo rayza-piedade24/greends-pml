{
  "nbformat": 4,
  "nbformat_minor": 0,
  "metadata": {
    "colab": {
      "provenance": [],
      "authorship_tag": "ABX9TyPRXHNWZBsJXNTfZa4456Hz",
      "include_colab_link": true
    },
    "kernelspec": {
      "name": "python3",
      "display_name": "Python 3"
    },
    "language_info": {
      "name": "python"
    }
  },
  "cells": [
    {
      "cell_type": "markdown",
      "metadata": {
        "id": "view-in-github",
        "colab_type": "text"
      },
      "source": [
        "<a href=\"https://colab.research.google.com/github/isa-ulisboa/greends-pml/blob/main/notebooks/prune_decision_tree.ipynb\" target=\"_parent\"><img src=\"https://colab.research.google.com/assets/colab-badge.svg\" alt=\"Open In Colab\"/></a>"
      ]
    },
    {
      "cell_type": "code",
      "execution_count": null,
      "metadata": {
        "id": "5pdl4EAU6U_Y"
      },
      "outputs": [],
      "source": [
        "from sklearn.datasets import load_iris\n",
        "from sklearn.tree import DecisionTreeClassifier\n",
        "from sklearn.model_selection import train_test_split\n",
        "from sklearn.metrics import accuracy_score\n",
        "from sklearn.tree import _tree\n",
        "\n",
        "# define a function prune_index that recursively prunes a decision tree by setting the left and right child indices of a node to TREE_LEAF if their sum of values is below a threshold\n",
        "def prune_index(inner_tree, index, threshold):\n",
        "    if inner_tree.children_left[index] != _tree.TREE_LEAF:\n",
        "        prune_index(inner_tree, inner_tree.children_left[index], threshold)\n",
        "        prune_index(inner_tree, inner_tree.children_right[index], threshold)\n",
        "        # The tree_ object has several properties, including children_left and children_right, which are arrays that represent the indices of the left and right children of each node in the tree\n",
        "        left_child = inner_tree.children_left[index]\n",
        "        right_child = inner_tree.children_right[index]\n",
        "        # the value array contains the class distribution at each leaf node of the decision tree. The value array has shape (n_nodes, n_classes, n_outputs), where\n",
        "        # n_nodes is the number of nodes in the tree,\n",
        "        # n_classes is the number of classes in the classification problem, and\n",
        "        # n_outputs is the number of outputs in the model.\n",
        "        if (inner_tree.value[left_child][0][1] + inner_tree.value[right_child][0][1]) <= threshold:\n",
        "            inner_tree.children_left[index] = _tree.TREE_LEAF\n",
        "            inner_tree.children_right[index] = _tree.TREE_LEAF\n",
        "\n",
        "# function that repeatedly fits a decision tree on the training data, evaluates its accuracy on the validation set, and prunes it if the accuracy falls below a threshold\n",
        "def prune_tree(tree, X_train, y_train, X_val, y_val, threshold):\n",
        "    while True:\n",
        "        # fit the decision tree on the training data\n",
        "        tree.fit(X_train, y_train)\n",
        "\n",
        "        # calculate the accuracy on the validation set\n",
        "        y_pred = tree.predict(X_val)\n",
        "        acc = accuracy_score(y_val, y_pred)\n",
        "\n",
        "        # check if pruning is possible\n",
        "        if acc >= threshold:\n",
        "            break  # In Python, the break statement is used to terminate the execution of a loop prematurely.\n",
        "\n",
        "        # prune the decision tree\n",
        "        # tree.tree_ represents the underlying binary tree structure of the decision tree, and contains information about the nodes and branches of the tree.\n",
        "        prune_index(tree.tree_, 0, threshold)\n",
        "\n",
        "    return tree\n",
        "\n",
        "# load the iris dataset\n",
        "iris = load_iris()\n",
        "\n",
        "# split the dataset into training and validation sets\n",
        "X_train, X_val, y_train, y_val = train_test_split(iris.data, iris.target, test_size=0.2, random_state=42)\n",
        "\n",
        "# create a decision tree classifier\n",
        "tree = DecisionTreeClassifier()\n",
        "\n",
        "# prune the decision tree\n",
        "pruned_tree = prune_tree(tree, X_train, y_train, X_val, y_val, threshold=0.9)\n",
        "\n",
        "# evaluate the pruned decision tree on the test set\n",
        "y_pred = pruned_tree.predict(X_val)\n",
        "acc = accuracy_score(y_val, y_pred)\n",
        "print(f\"Accuracy: {acc}\")\n"
      ]
    }
  ]
}