{
  "nbformat": 4,
  "nbformat_minor": 0,
  "metadata": {
    "colab": {
      "provenance": [],
      "authorship_tag": "ABX9TyNMsUebc0k6trQHCja9AzwO",
      "include_colab_link": true
    },
    "kernelspec": {
      "name": "python3",
      "display_name": "Python 3"
    },
    "language_info": {
      "name": "python"
    }
  },
  "cells": [
    {
      "cell_type": "markdown",
      "metadata": {
        "id": "view-in-github",
        "colab_type": "text"
      },
      "source": [
        "<a href=\"https://colab.research.google.com/github/isa-ulisboa/greends-pml/blob/main/notebooks/wine_region_pipeline_XGB_CV_gridsearch_featselection.ipynb\" target=\"_parent\"><img src=\"https://colab.research.google.com/assets/colab-badge.svg\" alt=\"Open In Colab\"/></a>"
      ]
    },
    {
      "cell_type": "code",
      "execution_count": 49,
      "metadata": {
        "id": "iyB3R-4KKBK9"
      },
      "outputs": [],
      "source": [
        "from sklearn import datasets\n",
        "from sklearn.metrics import make_scorer, f1_score\n",
        "from sklearn.pipeline import Pipeline\n",
        "from sklearn.preprocessing import StandardScaler\n",
        "from sklearn.impute import SimpleImputer\n",
        "from sklearn.feature_selection import RFECV\n",
        "from sklearn.ensemble import RandomForestClassifier\n",
        "import xgboost as xgb\n",
        "from sklearn.model_selection import RandomizedSearchCV,  StratifiedKFold, cross_val_score, train_test_split\n"
      ]
    },
    {
      "cell_type": "markdown",
      "source": [
        "Define pipeline that includes preprocessing and classification. This prevents data leakage"
      ],
      "metadata": {
        "id": "eWPYAj5AMo6d"
      }
    },
    {
      "cell_type": "code",
      "source": [
        "# Create pipeline with preprocessing and classifier\n",
        "pipeline = Pipeline([\n",
        "    ('imputer', SimpleImputer(strategy='mean')),  # Handle missing values\n",
        "    ('scaler', StandardScaler()),                # Standardize features\n",
        "    ('classifier', xgb.XGBClassifier())\n",
        "])\n"
      ],
      "metadata": {
        "id": "gAwWy3DYKNWB"
      },
      "execution_count": 74,
      "outputs": []
    },
    {
      "cell_type": "markdown",
      "source": [
        "Optional: add feature selection to the pipeline. In this case feature selection uses feature importance from a `RandomForestClassifier`"
      ],
      "metadata": {
        "id": "1OEtOr6ZqiEE"
      }
    },
    {
      "cell_type": "code",
      "source": [
        "# Create pipeline with preprocessing, automatic feature sselection and classifier\n",
        "pipeline = Pipeline([\n",
        "    ('imputer', SimpleImputer(strategy='mean')),  # Handle missing values\n",
        "    ('scaler', StandardScaler()),                # Standardize features\n",
        "    ('feature_selection', RFECV(                 # Recursive Feature Elimination (automatic version with CV)\n",
        "        estimator=RandomForestClassifier(),\n",
        "        step=1,\n",
        "        cv=StratifiedKFold(3),\n",
        "        scoring='accuracy'\n",
        "    )),\n",
        "    ('classifier', xgb.XGBClassifier())\n",
        "])\n"
      ],
      "metadata": {
        "id": "gw1CV_ZOpotD"
      },
      "execution_count": 75,
      "outputs": []
    },
    {
      "cell_type": "markdown",
      "source": [
        "Define cross validation splitting stategy"
      ],
      "metadata": {
        "id": "sBkPNkMbMvHW"
      }
    },
    {
      "cell_type": "code",
      "source": [
        "# Initialize StratifiedKFold for cross-validation\n",
        "skf = StratifiedKFold(n_splits=5, shuffle=True, random_state=42)\n"
      ],
      "metadata": {
        "id": "ELClnF8AKQuY"
      },
      "execution_count": 76,
      "outputs": []
    },
    {
      "cell_type": "markdown",
      "source": [
        "Load data: X, y"
      ],
      "metadata": {
        "id": "Ls3lhtKdMK11"
      }
    },
    {
      "cell_type": "code",
      "source": [
        "X,y=datasets.load_wine(return_X_y=True) # Wine region dataset\n",
        "X_train, X_test, y_train, y_test = train_test_split(\n",
        "    X, y, test_size=0.2, random_state=42\n",
        ")"
      ],
      "metadata": {
        "id": "H87CdjFGvi_v"
      },
      "execution_count": 77,
      "outputs": []
    },
    {
      "cell_type": "markdown",
      "source": [
        "Optional: if you want to perform hyperparameter tuning (in this case with `RandomizedSearchCV`). The code also updates the pipeline after best parameter  search"
      ],
      "metadata": {
        "id": "TwsN1IdFNP1G"
      }
    },
    {
      "cell_type": "code",
      "source": [
        "\n",
        "param_grid = {\n",
        "    'classifier__max_depth': [ 2,3,4]\n",
        "}\n",
        "\n",
        "search = RandomizedSearchCV(\n",
        "    pipeline,\n",
        "    param_distributions=param_grid,\n",
        "    cv=StratifiedKFold(n_splits=3, shuffle=True, random_state=42),\n",
        "    n_jobs=-1,\n",
        "    random_state=42\n",
        ")\n",
        "search.fit(X_train, y_train)\n",
        "\n",
        "# print best parameters\n",
        "print(search.best_params_)\n",
        "\n",
        "# Update the pipeline with the best parameters\n",
        "pipeline = search.best_estimator_\n"
      ],
      "metadata": {
        "colab": {
          "base_uri": "https://localhost:8080/"
        },
        "id": "R-lQytXUNfyW",
        "outputId": "d8496b29-6187-4f7d-eb94-f3dacd1221ce"
      },
      "execution_count": 79,
      "outputs": [
        {
          "output_type": "stream",
          "name": "stderr",
          "text": [
            "/usr/local/lib/python3.11/dist-packages/sklearn/model_selection/_search.py:317: UserWarning: The total space of parameters 3 is smaller than n_iter=10. Running 3 iterations. For exhaustive searches, use GridSearchCV.\n",
            "  warnings.warn(\n"
          ]
        },
        {
          "output_type": "stream",
          "name": "stdout",
          "text": [
            "{'classifier__max_depth': 3}\n"
          ]
        }
      ]
    },
    {
      "cell_type": "markdown",
      "source": [
        "Apply cross validation to obtain scores: the arguments are the pipeline, the data, the cross-validation scheme, and the scoring metric. Note that the default \"accuracy\" is not a good scoring metric if data is imbalanced."
      ],
      "metadata": {
        "id": "TOdYsZvhMR7-"
      }
    },
    {
      "cell_type": "code",
      "source": [
        "# Example usage with cross-validation\n",
        "scores = cross_val_score(\n",
        "    estimator=pipeline,\n",
        "    X=X_train,  # Your feature matrix\n",
        "    y=y_train,  # Your target vector\n",
        "    cv=skf,\n",
        "    scoring='accuracy'\n",
        ")\n",
        "\n",
        "print(scores)"
      ],
      "metadata": {
        "colab": {
          "base_uri": "https://localhost:8080/"
        },
        "id": "am6n1bjRKl7Q",
        "outputId": "50fd2a24-d174-4471-faf9-53cfbd7a82be"
      },
      "execution_count": 78,
      "outputs": [
        {
          "output_type": "stream",
          "name": "stdout",
          "text": [
            "[1.         0.82758621 0.96428571 0.92857143 1.        ]\n"
          ]
        }
      ]
    }
  ]
}