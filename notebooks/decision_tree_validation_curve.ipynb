{
  "nbformat": 4,
  "nbformat_minor": 0,
  "metadata": {
    "colab": {
      "provenance": [],
      "authorship_tag": "ABX9TyNcpuS0jQOdeSTpUETHJa9C",
      "include_colab_link": true
    },
    "kernelspec": {
      "name": "python3",
      "display_name": "Python 3"
    },
    "language_info": {
      "name": "python"
    }
  },
  "cells": [
    {
      "cell_type": "markdown",
      "metadata": {
        "id": "view-in-github",
        "colab_type": "text"
      },
      "source": [
        "<a href=\"https://colab.research.google.com/github/isa-ulisboa/greends-pml/blob/main/notebooks/decision_tree_validation_curve.ipynb\" target=\"_parent\"><img src=\"https://colab.research.google.com/assets/colab-badge.svg\" alt=\"Open In Colab\"/></a>"
      ]
    },
    {
      "cell_type": "code",
      "execution_count": null,
      "metadata": {
        "id": "s8Tl7L_T-Dzf"
      },
      "outputs": [],
      "source": [
        "from sklearn.datasets import make_classification\n",
        "from sklearn.model_selection import validation_curve\n",
        "from sklearn import tree\n",
        "import numpy as np\n",
        "import matplotlib.pyplot as plt\n",
        "\n",
        "# generate a toy dataset\n",
        "X, y = make_classification(n_samples=1000, n_features=10, random_state=42,n_classes=2)\n",
        "\n",
        "# define the model\n",
        "model = tree.DecisionTreeClassifier(criterion='entropy', min_samples_leaf=4)\n",
        "\n",
        "# define the range of hyperparameters to test\n",
        "param_range = np.arange(4, 10)\n",
        "\n",
        "# use validation_curve to compute training and validation scores for different hyperparameters\n",
        "train_scores, test_scores = validation_curve(\n",
        "    model, X, y,\n",
        "    param_name=\"max_depth\", param_range=param_range,\n",
        "    cv=5,\n",
        "    scoring=\"accuracy\")\n",
        "\n",
        "# calculate the mean and standard deviation of the training and validation scores for each hyperparameter\n",
        "train_mean = np.mean(train_scores, axis=1)\n",
        "train_std = np.std(train_scores, axis=1)\n",
        "test_mean = np.mean(test_scores, axis=1)\n",
        "test_std = np.std(test_scores, axis=1)\n",
        "\n",
        "# plot the validation curves\n",
        "plt.plot(param_range, train_mean, label=\"Training score\", color=\"darkorange\")\n",
        "plt.fill_between(param_range, train_mean - train_std, train_mean + train_std, alpha=0.2, color=\"darkorange\")\n",
        "plt.plot(param_range, test_mean, label=\"Cross-validation score\", color=\"navy\")\n",
        "plt.fill_between(param_range, test_mean - test_std, test_mean + test_std, alpha=0.2, color=\"navy\")\n",
        "plt.legend(loc=\"best\")\n",
        "plt.xlabel(\"max_depth\")\n",
        "plt.ylabel(\"Accuracy\")\n",
        "plt.show()\n",
        "\n",
        "# calculate bias and variance\n",
        "bias = (1 - test_mean) ** 2\n",
        "variance = test_std ** 2\n",
        "\n",
        "print(\"Bias:\", bias)\n",
        "print(\"Variance:\", variance)\n"
      ]
    }
  ]
}