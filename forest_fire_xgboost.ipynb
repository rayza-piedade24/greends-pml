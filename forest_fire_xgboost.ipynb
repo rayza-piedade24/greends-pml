{
  "nbformat": 4,
  "nbformat_minor": 0,
  "metadata": {
    "colab": {
      "provenance": [],
      "authorship_tag": "ABX9TyNjGsoa79j5RdypcZM7o5v3",
      "include_colab_link": true
    },
    "kernelspec": {
      "name": "python3",
      "display_name": "Python 3"
    },
    "language_info": {
      "name": "python"
    }
  },
  "cells": [
    {
      "cell_type": "markdown",
      "metadata": {
        "id": "view-in-github",
        "colab_type": "text"
      },
      "source": [
        "<a href=\"https://colab.research.google.com/github/isa-ulisboa/greends-pml/blob/main/forest_fire_xgboost.ipynb\" target=\"_parent\"><img src=\"https://colab.research.google.com/assets/colab-badge.svg\" alt=\"Open In Colab\"/></a>"
      ]
    },
    {
      "cell_type": "code",
      "source": [
        "import kagglehub\n",
        "import pandas as pd\n",
        "\n",
        "# Download latest version\n",
        "path = kagglehub.dataset_download(\"vikasukani/forest-firearea-datasets\")\n",
        "\n",
        "print(\"Path to dataset files:\", path)\n",
        "df=pd.read_csv(path+'/forestfires.csv')\n",
        "\n",
        "\n"
      ],
      "metadata": {
        "id": "9KnVcpqRnH5G",
        "colab": {
          "base_uri": "https://localhost:8080/"
        },
        "outputId": "11f7bd33-548e-4013-c522-574f2e24eb74"
      },
      "execution_count": 3,
      "outputs": [
        {
          "output_type": "stream",
          "name": "stdout",
          "text": [
            "Path to dataset files: /kaggle/input/forest-firearea-datasets\n"
          ]
        }
      ]
    },
    {
      "cell_type": "code",
      "source": [
        "\n",
        "# Rename 'area' column to 'y' and the rest to 'X'\n",
        "y = df['area']\n",
        "X = df.drop(['X', 'Y','area'], axis=1)"
      ],
      "metadata": {
        "id": "yUOcKvtKopbG"
      },
      "execution_count": 4,
      "outputs": []
    },
    {
      "cell_type": "code",
      "source": [
        "X.columns"
      ],
      "metadata": {
        "colab": {
          "base_uri": "https://localhost:8080/"
        },
        "id": "vYQwXkbto44Q",
        "outputId": "3d7e9c17-d05b-4bce-de5f-82680b030286"
      },
      "execution_count": 5,
      "outputs": [
        {
          "output_type": "execute_result",
          "data": {
            "text/plain": [
              "Index(['month', 'day', 'FFMC', 'DMC', 'DC', 'ISI', 'temp', 'RH', 'wind',\n",
              "       'rain'],\n",
              "      dtype='object')"
            ]
          },
          "metadata": {},
          "execution_count": 5
        }
      ]
    },
    {
      "cell_type": "code",
      "source": [
        "import pandas as pd\n",
        "# pre-processing, missing values\n",
        "from sklearn.compose import ColumnTransformer\n",
        "from sklearn.impute import SimpleImputer\n",
        "from sklearn.preprocessing import OneHotEncoder, StandardScaler, Normalizer\n",
        "\n",
        "# pipeline\n",
        "from sklearn.pipeline import Pipeline\n",
        "\n",
        "# some models\n",
        "from sklearn.linear_model import LogisticRegression\n",
        "from sklearn.tree import DecisionTreeClassifier\n",
        "from sklearn.ensemble import RandomForestClassifier\n",
        "import xgboost as xgb\n",
        "\n",
        "# partition data\n",
        "from sklearn.model_selection import train_test_split, GridSearchCV, RepeatedStratifiedKFold\n",
        "\n",
        "# precision metrics\n",
        "from sklearn.metrics import classification_report, ConfusionMatrixDisplay, confusion_matrix\n",
        "import matplotlib.pyplot as plt"
      ],
      "metadata": {
        "id": "b2nadRJvPzfO"
      },
      "execution_count": 6,
      "outputs": []
    },
    {
      "cell_type": "code",
      "source": [
        "categorical_features = ['month', 'day']\n",
        "categorical_transformer = Pipeline(\n",
        "    [\n",
        "        ('imputer_cat', SimpleImputer(strategy = 'most_frequent')),\n",
        "        ('onehot', OneHotEncoder(handle_unknown = 'ignore'))\n",
        "    ]\n",
        ")\n",
        "\n",
        "numeric_features = ['FFMC', 'DMC', 'DC', 'ISI', 'temp', 'RH', 'wind','rain']\n",
        "numeric_transformer = Pipeline(\n",
        "    [\n",
        "        ('imputer_num', SimpleImputer(strategy = 'mean')),\n",
        "        ('normalizer', Normalizer())\n",
        "    ]\n",
        ")"
      ],
      "metadata": {
        "id": "vLEdEKlsRIQI"
      },
      "execution_count": 7,
      "outputs": []
    },
    {
      "cell_type": "code",
      "source": [
        "preprocessor = ColumnTransformer(\n",
        "    [\n",
        "        ('categoricals', categorical_transformer, categorical_features),\n",
        "        ('numericals', numeric_transformer, numeric_features)\n",
        "    ],\n",
        "    remainder = 'drop' # By default, only the specified columns in transformers are transformed and combined in the output, and the non-specified columns are dropped.\n",
        ")\n"
      ],
      "metadata": {
        "id": "5uAggt5XRMnQ"
      },
      "execution_count": 8,
      "outputs": []
    },
    {
      "cell_type": "code",
      "source": [
        "\n",
        "pipeline = Pipeline(\n",
        "    [\n",
        "        ('preprocessing', preprocessor),\n",
        "        #('clf', RandomForestClassifier(n_estimators=10)) #tree.DecisionTreeClassifier()) # LogisticRegression())\n",
        "        ('clf', xgb.XGBClassifier(n_estimators=1000, learning_rate=0.01, max_depth=4, random_state=1))\n",
        "    ]\n",
        ")\n"
      ],
      "metadata": {
        "id": "oUHHXVI6RRGg"
      },
      "execution_count": 25,
      "outputs": []
    },
    {
      "cell_type": "code",
      "source": [
        "# Rename 'area' column to 'y' and the rest to 'X'\n",
        "y = df['area']\n",
        "X = df.drop(['X', 'Y','area'], axis=1)\n",
        "y= y >5\n",
        "\n",
        "X_train, X_test, y_train, y_test = train_test_split(X, y, test_size=0.20, stratify=y)\n",
        "\n",
        "pipeline.fit(X_train, y_train)\n",
        "\n",
        "y_pred=pipeline.predict(X_test)\n",
        "\n",
        "# confusion matrix\n",
        "confmat = confusion_matrix(y_true=y_test, y_pred=y_pred) #actual, predicted\n",
        "cm_display = ConfusionMatrixDisplay(confusion_matrix = confmat, display_labels = ['do not survive', 'do survive'])\n",
        "cm_display.plot()\n",
        "plt.show()"
      ],
      "metadata": {
        "colab": {
          "base_uri": "https://localhost:8080/",
          "height": 449
        },
        "id": "w4lzqeh6RW_Q",
        "outputId": "1ec308a2-c8c2-4592-dc9b-850836b2c4f7"
      },
      "execution_count": 26,
      "outputs": [
        {
          "output_type": "display_data",
          "data": {
            "text/plain": [
              "<Figure size 640x480 with 2 Axes>"
            ],
            "image/png": "[encoded data removed]"
          },
          "metadata": {}
        }
      ]
    },
    {
      "cell_type": "code",
      "source": [],
      "metadata": {
        "id": "oALbCX8PpbrY"
      },
      "execution_count": null,
      "outputs": []
    }
  ]
}